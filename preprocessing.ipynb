{
 "cells": [
  {
   "cell_type": "code",
   "execution_count": 1,
   "metadata": {},
   "outputs": [],
   "source": [
    "import numpy as np\n",
    "import pandas as pd\n",
    "import matplotlib.pyplot as plt\n",
    "import matplotlib.image as img\n",
    "import os\n",
    "\n",
    "import splitfolders\n",
    "\n",
    "from keras_preprocessing.image import ImageDataGenerator"
   ]
  },
  {
   "cell_type": "code",
   "execution_count": 12,
   "metadata": {},
   "outputs": [],
   "source": [
    "dataset_dir = r'D:\\Semester 5\\Kecerdasan Buatan\\Praktikum\\Cat-vs-Dog\\dataset\\Dog and Cat .png'\n",
    "test_dir = r'D:\\Semester 5\\Kecerdasan Buatan\\Praktikum\\Cat-vs-Dog\\dataset\\Dog and Cat .png\\test'\n",
    "train_dir = r'D:\\Semester 5\\Kecerdasan Buatan\\Praktikum\\Cat-vs-Dog\\dataset\\Dog and Cat .png\\train'"
   ]
  },
  {
   "cell_type": "code",
   "execution_count": 8,
   "metadata": {},
   "outputs": [],
   "source": [
    "splitfolders.ratio('dataset\\Dog and Cat .png', output=\"dataset-split\", seed=42, ratio=(0.7,0.3), group_prefix=None)\n",
    "\n",
    "splitfolders.fixed('dataset\\Dog and Cat .png', output=\"output_folder\", seed=42, fixed=(200, 200), oversample=False, group_prefix=None)"
   ]
  },
  {
   "cell_type": "code",
   "execution_count": 13,
   "metadata": {},
   "outputs": [
    {
     "name": "stdout",
     "output_type": "stream",
     "text": [
      "Found 801 images belonging to 4 classes.\n",
      "Found 200 images belonging to 4 classes.\n",
      "Found 0 images belonging to 0 classes.\n"
     ]
    }
   ],
   "source": [
    "train_datagen = ImageDataGenerator(rescale=1./255,\n",
    "    shear_range=0.2,\n",
    "    zoom_range=0.2,\n",
    "    horizontal_flip=True,\n",
    "    validation_split=0.2) # set validation split\n",
    "\n",
    "train_generator = train_datagen.flow_from_directory(\n",
    "    dataset_dir,\n",
    "    target_size=(256, 256),\n",
    "    batch_size=200,\n",
    "    class_mode='binary',\n",
    "    subset='training') # set as training data\n",
    "\n",
    "validation_generator = train_datagen.flow_from_directory(\n",
    "    dataset_dir, # same directory as training data\n",
    "    target_size=(256, 256),\n",
    "    batch_size=200,\n",
    "    class_mode='binary',\n",
    "    subset='validation') # set as validation data\n",
    "\n",
    "test_generator = ImageDataGenerator(rescale=1./255).flow_from_directory(\n",
    "    test_dir,\n",
    "    target_size=(256,256), \n",
    "    color_mode='rgb', \n",
    "    batch_size=64, \n",
    "    class_mode='categorical', \n",
    "    shuffle=False\n",
    ")\n"
   ]
  },
  {
   "cell_type": "code",
   "execution_count": null,
   "metadata": {},
   "outputs": [],
   "source": []
  }
 ],
 "metadata": {
  "kernelspec": {
   "display_name": "Python 3.10.7 64-bit",
   "language": "python",
   "name": "python3"
  },
  "language_info": {
   "codemirror_mode": {
    "name": "ipython",
    "version": 3
   },
   "file_extension": ".py",
   "mimetype": "text/x-python",
   "name": "python",
   "nbconvert_exporter": "python",
   "pygments_lexer": "ipython3",
   "version": "3.10.7"
  },
  "orig_nbformat": 4,
  "vscode": {
   "interpreter": {
    "hash": "4087901ceae5ce8a9d0dd1d65190ccfabacf301eac98c84b3353bfad995f38a2"
   }
  }
 },
 "nbformat": 4,
 "nbformat_minor": 2
}
