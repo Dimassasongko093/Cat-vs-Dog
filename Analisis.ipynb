{
 "cells": [
  {
   "cell_type": "code",
   "execution_count": 1,
   "id": "cebbf738",
   "metadata": {},
   "outputs": [],
   "source": [
    "import pandas as pd\n",
    "import matplotlib.pyplot as plt\n",
    "import matplotlib.image as img\n",
    "import splitfolders\n",
    "import tensorflow as tf\n",
    "import os\n",
    "\n",
    "from keras_preprocessing.image import ImageDataGenerator"
   ]
  },
  {
   "cell_type": "code",
   "execution_count": 14,
   "id": "59853da0",
   "metadata": {},
   "outputs": [],
   "source": [
    "#Lokasi Folder Gambar\n",
    "dataset_dir = r'C:\\Users\\TUF\\Documents\\.Kulaih_Informatika\\Semester5\\Praktikum\\Kecerdasan Buatan(AI)\\PA_KB\\Dog and Cat .png'"
   ]
  },
  {
   "cell_type": "code",
   "execution_count": 15,
   "id": "b42b662d",
   "metadata": {},
   "outputs": [],
   "source": [
    "splitfolders.ratio(dataset_dir, output=\"dataset-split\", ratio=(0.7,0.15,0.15))"
   ]
  },
  {
   "cell_type": "code",
   "execution_count": 16,
   "id": "72425f3f",
   "metadata": {},
   "outputs": [],
   "source": [
    "train_dir = r'dataset-split\\train'\n",
    "test_dir = r'dataset-split\\test'\n",
    "val_dir = r'dataset-split\\val'"
   ]
  },
  {
   "cell_type": "markdown",
   "id": "c3a5f6e9",
   "metadata": {},
   "source": [
    "Analisis Jumlah Training"
   ]
  },
  {
   "cell_type": "code",
   "execution_count": 17,
   "id": "478f6a2d",
   "metadata": {},
   "outputs": [],
   "source": [
    "list_jumlah_train = {}\n",
    "\n",
    "for kelas in os.listdir(train_dir):\n",
    "    list_jumlah_train[kelas] = len(os.listdir(os.path.join(train_dir,kelas)))"
   ]
  },
  {
   "cell_type": "code",
   "execution_count": 19,
   "id": "00af52a6",
   "metadata": {},
   "outputs": [
    {
     "data": {
      "text/plain": [
       "{'.ipynb_checkpoints': 0, 'Cat': 400, 'Dog': 400}"
      ]
     },
     "execution_count": 19,
     "metadata": {},
     "output_type": "execute_result"
    }
   ],
   "source": [
    "list_jumlah_train"
   ]
  },
  {
   "cell_type": "markdown",
   "id": "cf1fbdc2",
   "metadata": {},
   "source": [
    "Analisis Jumlah Testing"
   ]
  },
  {
   "cell_type": "code",
   "execution_count": 20,
   "id": "2d838730",
   "metadata": {},
   "outputs": [],
   "source": [
    "list_jumlah_test = {}\n",
    "\n",
    "for kelas in os.listdir(test_dir):\n",
    "    list_jumlah_test[kelas] = len(os.listdir(os.path.join(test_dir,kelas)))"
   ]
  },
  {
   "cell_type": "code",
   "execution_count": 21,
   "id": "85b1d83e",
   "metadata": {},
   "outputs": [
    {
     "data": {
      "text/plain": [
       "{'.ipynb_checkpoints': 1, 'Cat': 75, 'Dog': 75}"
      ]
     },
     "execution_count": 21,
     "metadata": {},
     "output_type": "execute_result"
    }
   ],
   "source": [
    "list_jumlah_test"
   ]
  },
  {
   "cell_type": "markdown",
   "id": "539a2cfe",
   "metadata": {},
   "source": [
    "Analisis Jumlah val"
   ]
  },
  {
   "cell_type": "code",
   "execution_count": 22,
   "id": "f6d116f3",
   "metadata": {},
   "outputs": [],
   "source": [
    "list_jumlah_val = {}\n",
    "\n",
    "for kelas in os.listdir(val_dir):\n",
    "    list_jumlah_val[kelas] = len(os.listdir(os.path.join(val_dir,kelas)))"
   ]
  },
  {
   "cell_type": "code",
   "execution_count": 23,
   "id": "9a4e02f3",
   "metadata": {},
   "outputs": [
    {
     "data": {
      "text/plain": [
       "{'.ipynb_checkpoints': 0, 'Cat': 100, 'Dog': 100}"
      ]
     },
     "execution_count": 23,
     "metadata": {},
     "output_type": "execute_result"
    }
   ],
   "source": [
    "list_jumlah_val"
   ]
  },
  {
   "cell_type": "markdown",
   "id": "02e40273",
   "metadata": {},
   "source": [
    "Analisis Jumlah Kedua Class"
   ]
  },
  {
   "cell_type": "code",
   "execution_count": 7,
   "id": "1a6b515b",
   "metadata": {},
   "outputs": [],
   "source": [
    "list_jumlah_dataset_class = {}\n",
    "\n",
    "for kelas in os.listdir(dataset_dir):\n",
    "    list_jumlah_dataset_class[kelas] = len(os.listdir(os.path.join(dataset_dir,kelas)))"
   ]
  },
  {
   "cell_type": "code",
   "execution_count": 8,
   "id": "08778cb7",
   "metadata": {},
   "outputs": [
    {
     "data": {
      "text/plain": [
       "{'Cat': 500, 'Dog': 500}"
      ]
     },
     "execution_count": 8,
     "metadata": {},
     "output_type": "execute_result"
    }
   ],
   "source": [
    "list_jumlah_dataset_class"
   ]
  }
 ],
 "metadata": {
  "kernelspec": {
   "display_name": "Python 3 (ipykernel)",
   "language": "python",
   "name": "python3"
  },
  "language_info": {
   "codemirror_mode": {
    "name": "ipython",
    "version": 3
   },
   "file_extension": ".py",
   "mimetype": "text/x-python",
   "name": "python",
   "nbconvert_exporter": "python",
   "pygments_lexer": "ipython3",
   "version": "3.10.7"
  },
  "vscode": {
   "interpreter": {
    "hash": "19f545a127c45b13f2352d0f5da5265f52ed32dee892e47cd486772258f602f3"
   }
  }
 },
 "nbformat": 4,
 "nbformat_minor": 5
}
